{
  "cells": [
    {
      "cell_type": "markdown",
      "metadata": {
        "id": "view-in-github",
        "colab_type": "text"
      },
      "source": [
        "<a href=\"https://colab.research.google.com/github/abdulbasityawm-max/Assignments/blob/main/MOHAMMED_ABDUL_BASIT_YAW_UEB0508723_ASSIGNMENT_PETR_ENG.ipynb\" target=\"_parent\"><img src=\"https://colab.research.google.com/assets/colab-badge.svg\" alt=\"Open In Colab\"/></a>"
      ]
    },
    {
      "cell_type": "code",
      "execution_count": null,
      "metadata": {
        "colab": {
          "base_uri": "https://localhost:8080/"
        },
        "id": "_RQv3D1WWgsL",
        "outputId": "1afb075e-213f-45e8-9fe9-362b394f0465"
      },
      "outputs": [
        {
          "output_type": "stream",
          "name": "stdout",
          "text": [
            "enter number56\n",
            " 56×1=56\n",
            " 56×2=112\n",
            " 56×3=168\n",
            " 56×4=224\n",
            " 56×5=280\n",
            " 56×6=336\n",
            " 56×7=392\n",
            " 56×8=448\n",
            " 56×9=504\n",
            " 56×10=560\n",
            " 56×11=616\n",
            " 56×12=672\n",
            " 56×13=728\n",
            " 56×14=784\n",
            " 56×15=840\n",
            " 56×16=896\n",
            " 56×17=952\n",
            " 56×18=1008\n",
            " 56×19=1064\n",
            " 56×20=1120\n",
            " 56×21=1176\n",
            " 56×22=1232\n",
            " 56×23=1288\n",
            " 56×24=1344\n",
            " 56×25=1400\n"
          ]
        }
      ],
      "source": [
        "#Assignment 4\n",
        "\n",
        "def multiplication_table (x):\n",
        "  for p in range (1,  26):\n",
        "     print(f' {x}×{p}={x*p}')\n",
        "num= int(input('enter number'))\n",
        "multiplication_table(num)"
      ]
    },
    {
      "cell_type": "code",
      "execution_count": null,
      "metadata": {
        "colab": {
          "base_uri": "https://localhost:8080/"
        },
        "id": "gfVl5EX7oCsF",
        "outputId": "ade3cb97-19e4-4d73-ea70-855309414e7d"
      },
      "outputs": [
        {
          "output_type": "stream",
          "name": "stdout",
          "text": [
            "10 <class 'int'>\n",
            "20.5 <class 'float'>\n",
            "Hello <class 'str'>\n",
            "True <class 'bool'>\n"
          ]
        }
      ],
      "source": [
        "#Assignment 1\n",
        "\n",
        "# a. Create variables of these types\n",
        "integer_var = 10\n",
        "float_var = 20.5\n",
        "string_var = \"Hello\"\n",
        "boolean_var = True\n",
        "\n",
        "# b. Print each variable with its type\n",
        "print(integer_var, type(integer_var))\n",
        "print(float_var, type(float_var))\n",
        "print(string_var, type(string_var))\n",
        "print(boolean_var, type(boolean_var))"
      ]
    },
    {
      "cell_type": "code",
      "execution_count": null,
      "metadata": {
        "colab": {
          "base_uri": "https://localhost:8080/"
        },
        "id": "8Aohw45At03m",
        "outputId": "90e43d97-3492-4995-f621-5dc4961af838"
      },
      "outputs": [
        {
          "name": "stdout",
          "output_type": "stream",
          "text": [
            "19 <class 'int'>\n",
            "50 <class 'str'>\n",
            "50.0 <class 'float'>\n"
          ]
        }
      ],
      "source": [
        "# a. Convert a float 19.99 to an integer\n",
        "num1 = int(19.99)\n",
        "print(num1, type(num1))\n",
        "\n",
        "# b. Convert an integer 50 to a string\n",
        "num2 = str(50)\n",
        "print(num2, type(num2))\n",
        "\n",
        "# c. Convert a string \"50\" to a float\n",
        "num3 = float(\"50\")\n",
        "print(num3, type(num3))"
      ]
    },
    {
      "cell_type": "code",
      "execution_count": null,
      "metadata": {
        "colab": {
          "base_uri": "https://localhost:8080/"
        },
        "id": "pkTzmkiXt60y",
        "outputId": "6327b5e7-af87-4677-9009-61dc0b70ab83"
      },
      "outputs": [
        {
          "name": "stdout",
          "output_type": "stream",
          "text": [
            "Enter your first name: Mohammed \n",
            "Enter your last name: Abdul Basit Yaw \n",
            "Hello, Mohammed  Abdul Basit Yaw !\n"
          ]
        }
      ],
      "source": [
        "# a. Take user's first and last name\n",
        "first_name = input(\"Enter your first name: \")\n",
        "last_name = input(\"Enter your last name: \")\n",
        "\n",
        "# b. Print a greeting message\n",
        "print(f\"Hello, {first_name} {last_name}!\")"
      ]
    },
    {
      "cell_type": "code",
      "execution_count": null,
      "metadata": {
        "colab": {
          "base_uri": "https://localhost:8080/"
        },
        "id": "M6fkF7361jhb",
        "outputId": "da645019-1983-4e79-d212-f1df2621a8cb"
      },
      "outputs": [
        {
          "name": "stdout",
          "output_type": "stream",
          "text": [
            "Enter your favorite word: Book\n",
            "How many times should I repeat it? 2\n",
            "Book Book \n"
          ]
        }
      ],
      "source": [
        "# Ask for favorite word and number of repetitions\n",
        "word = input(\"Enter your favorite word: \")\n",
        "times = int(input(\"How many times should I repeat it? \"))\n",
        "\n",
        "# Print the word that many times, separated by spaces\n",
        "print((word + \" \") * times)"
      ]
    },
    {
      "cell_type": "code",
      "execution_count": null,
      "metadata": {
        "colab": {
          "base_uri": "https://localhost:8080/"
        },
        "id": "EZ5d0WG-2HhJ",
        "outputId": "33b1c87a-924a-46bd-ae75-d643d3b3292f"
      },
      "outputs": [
        {
          "name": "stdout",
          "output_type": "stream",
          "text": [
            "a. Hello → C. SyntaxError\n"
          ]
        }
      ],
      "source": [
        "print(\"a. Hello → C. SyntaxError\")"
      ]
    },
    {
      "cell_type": "code",
      "execution_count": null,
      "metadata": {
        "colab": {
          "base_uri": "https://localhost:8080/"
        },
        "id": "dFWCFV-C4GI2",
        "outputId": "7dc854f0-6f61-4ac3-b092-8ecac575a024"
      },
      "outputs": [
        {
          "name": "stdout",
          "output_type": "stream",
          "text": [
            "b. int(abc) → ValueError\n"
          ]
        }
      ],
      "source": [
        "\n",
        "print(\"b. int(abc) → ValueError\")"
      ]
    },
    {
      "cell_type": "markdown",
      "metadata": {
        "id": "fkHljlTJ48Tr"
      },
      "source": []
    },
    {
      "cell_type": "code",
      "execution_count": null,
      "metadata": {
        "colab": {
          "background_save": true,
          "base_uri": "https://localhost:8080/",
          "height": 159
        },
        "id": "glLU1DWE48sL",
        "outputId": "2d789d94-5abc-4697-c266-459d7c609ccc"
      },
      "outputs": [
        {
          "name": "stdout",
          "output_type": "stream",
          "text": [
            "c. age + 10 → B. TypeError\n"
          ]
        }
      ],
      "source": [
        "\n",
        "print(c. \"age\" + 10 → B. TypeError\")"
      ]
    },
    {
      "cell_type": "code",
      "execution_count": null,
      "metadata": {
        "colab": {
          "base_uri": "https://localhost:8080/"
        },
        "id": "ttvfoeU62bgC",
        "outputId": "06226e00-4d6f-48fb-d3cb-10ca4a9f31d1"
      },
      "outputs": [
        {
          "name": "stdout",
          "output_type": "stream",
          "text": [
            "You are 20 years old\n"
          ]
        }
      ],
      "source": [
        "age = 20\n",
        "print(\"You are \" + str(age) + \" years old\")"
      ]
    },
    {
      "cell_type": "markdown",
      "metadata": {
        "id": "iJyD4PvWXPiE"
      },
      "source": [
        "Assignment 3"
      ]
    },
    {
      "cell_type": "code",
      "execution_count": null,
      "metadata": {
        "colab": {
          "base_uri": "https://localhost:8080/",
          "height": 862
        },
        "id": "Nvtz-ZQwStcC",
        "outputId": "4f420c11-39ed-4e4f-88c9-b62e7f3a896c"
      },
      "outputs": [
        {
          "output_type": "stream",
          "name": "stdout",
          "text": [
            "I'm thinking of a number between 1 and 100, can you guess \n",
            "Too high,  try again \n",
            "Too high,  try again \n",
            "Too high,  try again \n",
            "Enter your guess guess: 45\n",
            "Too high,  try again \n"
          ]
        },
        {
          "output_type": "error",
          "ename": "KeyboardInterrupt",
          "evalue": "Interrupted by user",
          "traceback": [
            "\u001b[0;31m---------------------------------------------------------------------------\u001b[0m",
            "\u001b[0;31mKeyboardInterrupt\u001b[0m                         Traceback (most recent call last)",
            "\u001b[0;32m/tmp/ipython-input-2343278621.py\u001b[0m in \u001b[0;36m<cell line: 0>\u001b[0;34m()\u001b[0m\n\u001b[1;32m      6\u001b[0m \u001b[0;32mwhile\u001b[0m \u001b[0mguess\u001b[0m \u001b[0;34m!=\u001b[0m \u001b[0msecret_number\u001b[0m\u001b[0;34m:\u001b[0m\u001b[0;34m\u001b[0m\u001b[0;34m\u001b[0m\u001b[0m\n\u001b[1;32m      7\u001b[0m   \u001b[0;32mtry\u001b[0m\u001b[0;34m:\u001b[0m\u001b[0;34m\u001b[0m\u001b[0;34m\u001b[0m\u001b[0m\n\u001b[0;32m----> 8\u001b[0;31m      \u001b[0mguess\u001b[0m \u001b[0;34m=\u001b[0m \u001b[0mint\u001b[0m\u001b[0;34m(\u001b[0m\u001b[0minput\u001b[0m\u001b[0;34m(\u001b[0m\u001b[0;34m\"Enter your guess guess: \"\u001b[0m\u001b[0;34m)\u001b[0m\u001b[0;34m)\u001b[0m\u001b[0;34m\u001b[0m\u001b[0;34m\u001b[0m\u001b[0m\n\u001b[0m\u001b[1;32m      9\u001b[0m      \u001b[0;32mif\u001b[0m \u001b[0mguess\u001b[0m \u001b[0;34m<\u001b[0m \u001b[0msecret_number\u001b[0m\u001b[0;34m:\u001b[0m\u001b[0;34m\u001b[0m\u001b[0;34m\u001b[0m\u001b[0m\n\u001b[1;32m     10\u001b[0m        \u001b[0mprints\u001b[0m\u001b[0;34m(\u001b[0m\u001b[0;34m\"Too low try again\"\u001b[0m\u001b[0;34m)\u001b[0m\u001b[0;34m\u001b[0m\u001b[0;34m\u001b[0m\u001b[0m\n",
            "\u001b[0;32m/usr/local/lib/python3.12/dist-packages/ipykernel/kernelbase.py\u001b[0m in \u001b[0;36mraw_input\u001b[0;34m(self, prompt)\u001b[0m\n\u001b[1;32m   1175\u001b[0m                 \u001b[0;34m\"raw_input was called, but this frontend does not support input requests.\"\u001b[0m\u001b[0;34m\u001b[0m\u001b[0;34m\u001b[0m\u001b[0m\n\u001b[1;32m   1176\u001b[0m             )\n\u001b[0;32m-> 1177\u001b[0;31m         return self._input_request(\n\u001b[0m\u001b[1;32m   1178\u001b[0m             \u001b[0mstr\u001b[0m\u001b[0;34m(\u001b[0m\u001b[0mprompt\u001b[0m\u001b[0;34m)\u001b[0m\u001b[0;34m,\u001b[0m\u001b[0;34m\u001b[0m\u001b[0;34m\u001b[0m\u001b[0m\n\u001b[1;32m   1179\u001b[0m             \u001b[0mself\u001b[0m\u001b[0;34m.\u001b[0m\u001b[0m_parent_ident\u001b[0m\u001b[0;34m[\u001b[0m\u001b[0;34m\"shell\"\u001b[0m\u001b[0;34m]\u001b[0m\u001b[0;34m,\u001b[0m\u001b[0;34m\u001b[0m\u001b[0;34m\u001b[0m\u001b[0m\n",
            "\u001b[0;32m/usr/local/lib/python3.12/dist-packages/ipykernel/kernelbase.py\u001b[0m in \u001b[0;36m_input_request\u001b[0;34m(self, prompt, ident, parent, password)\u001b[0m\n\u001b[1;32m   1217\u001b[0m             \u001b[0;32mexcept\u001b[0m \u001b[0mKeyboardInterrupt\u001b[0m\u001b[0;34m:\u001b[0m\u001b[0;34m\u001b[0m\u001b[0;34m\u001b[0m\u001b[0m\n\u001b[1;32m   1218\u001b[0m                 \u001b[0;31m# re-raise KeyboardInterrupt, to truncate traceback\u001b[0m\u001b[0;34m\u001b[0m\u001b[0;34m\u001b[0m\u001b[0m\n\u001b[0;32m-> 1219\u001b[0;31m                 \u001b[0;32mraise\u001b[0m \u001b[0mKeyboardInterrupt\u001b[0m\u001b[0;34m(\u001b[0m\u001b[0;34m\"Interrupted by user\"\u001b[0m\u001b[0;34m)\u001b[0m \u001b[0;32mfrom\u001b[0m \u001b[0;32mNone\u001b[0m\u001b[0;34m\u001b[0m\u001b[0;34m\u001b[0m\u001b[0m\n\u001b[0m\u001b[1;32m   1220\u001b[0m             \u001b[0;32mexcept\u001b[0m \u001b[0mException\u001b[0m\u001b[0;34m:\u001b[0m\u001b[0;34m\u001b[0m\u001b[0;34m\u001b[0m\u001b[0m\n\u001b[1;32m   1221\u001b[0m                 \u001b[0mself\u001b[0m\u001b[0;34m.\u001b[0m\u001b[0mlog\u001b[0m\u001b[0;34m.\u001b[0m\u001b[0mwarning\u001b[0m\u001b[0;34m(\u001b[0m\u001b[0;34m\"Invalid Message:\"\u001b[0m\u001b[0;34m,\u001b[0m \u001b[0mexc_info\u001b[0m\u001b[0;34m=\u001b[0m\u001b[0;32mTrue\u001b[0m\u001b[0;34m)\u001b[0m\u001b[0;34m\u001b[0m\u001b[0;34m\u001b[0m\u001b[0m\n",
            "\u001b[0;31mKeyboardInterrupt\u001b[0m: Interrupted by user"
          ]
        }
      ],
      "source": [
        "12\n",
        "#Guessing Game\n",
        "import random\n",
        "secret_number = random.randint(1, 100)\n",
        "guess = 0\n",
        "print(\"I'm thinking of a number between 1 and 100, can you guess \")\n",
        "while guess != secret_number:\n",
        "  try:\n",
        "     guess = int(input(\"Enter your guess guess: \"))\n",
        "     if guess < secret_number:\n",
        "       prints(\"Too low try again\")\n",
        "     elif guess > secret_number:\n",
        "       print(\"Too high,  try again \")\n",
        "     else:\n",
        "       print(\"Congratulations you got it right\")\n",
        "  except ValueError:\n",
        "       print(\"Invalid input. Please enter a whole number \")"
      ]
    },
    {
      "cell_type": "markdown",
      "metadata": {
        "id": "ugI6XpNMXVI1"
      },
      "source": [
        "Assignment 5"
      ]
    },
    {
      "cell_type": "code",
      "execution_count": null,
      "metadata": {
        "colab": {
          "base_uri": "https://localhost:8080/"
        },
        "id": "5iyAcKP-VAHv",
        "outputId": "7dea3859-00b2-47c1-ad6c-f6b12ef2586a"
      },
      "outputs": [
        {
          "name": "stdout",
          "output_type": "stream",
          "text": [
            "Porosity (ϕ): 0.28\n",
            "Water Saturation (Sw): 0.2258769757263128\n",
            "Hydrocarbon Saturation (Sh): 0.7741230242736872\n",
            "Bulk Density (ρb): 2.45\n",
            "Formation Factor (F): 12.755102040816325\n",
            "Permeability (k): 0.16938271604938276\n"
          ]
        }
      ],
      "source": [
        "# Petrophysics OOP Example\n",
        "\n",
        "class PetrophysicsFormula:\n",
        "    \"\"\"Base class for all petrophysics formulas\"\"\"\n",
        "    def calculate(self):\n",
        "        raise NotImplementedError(\"This method must be overridden in subclasses\")\n",
        "\n",
        "\n",
        "# ------------------- FORMULAS -------------------\n",
        "\n",
        "class Porosity(PetrophysicsFormula):\n",
        "    def __init__(self, Vp, Vb):\n",
        "        self.Vp = Vp\n",
        "        self.Vb = Vb\n",
        "\n",
        "    def calculate(self):\n",
        "        try:\n",
        "            return self.Vp / self.Vb\n",
        "        except ZeroDivisionError:\n",
        "            print(\"Error: Bulk volume (Vb) cannot be zero.\")\n",
        "            return None\n",
        "\n",
        "\n",
        "class WaterSaturation(PetrophysicsFormula):\n",
        "    def __init__(self, phi, Rw, Rt, a=1.0, m=2.0, n=2.0):\n",
        "        self.phi = phi\n",
        "        self.Rw = Rw\n",
        "        self.Rt = Rt\n",
        "        self.a = a\n",
        "        self.m = m\n",
        "        self.n = n\n",
        "\n",
        "    def calculate(self):\n",
        "        try:\n",
        "            return ((self.a * self.Rw) / ((self.phi ** self.m) * self.Rt)) ** (1 / self.n)\n",
        "        except ZeroDivisionError:\n",
        "            print(\"Error: Division by zero in Archie’s equation.\")\n",
        "            return None\n",
        "\n",
        "\n",
        "class HydrocarbonSaturation(PetrophysicsFormula):\n",
        "    def __init__(self, Sw):\n",
        "        self.Sw = Sw\n",
        "\n",
        "    def calculate(self):\n",
        "        return 1 - self.Sw\n",
        "\n",
        "\n",
        "class BulkDensity(PetrophysicsFormula):\n",
        "    def __init__(self, Wd, Vb):\n",
        "        self.Wd = Wd\n",
        "        self.Vb = Vb\n",
        "\n",
        "    def calculate(self):\n",
        "        try:\n",
        "            return self.Wd / self.Vb\n",
        "        except ZeroDivisionError:\n",
        "            print(\"Error: Bulk volume (Vb) cannot be zero.\")\n",
        "            return None\n",
        "\n",
        "\n",
        "class FormationFactor(PetrophysicsFormula):\n",
        "    def __init__(self, R0=None, Rw=None, phi=None, a=1.0, m=2.0):\n",
        "        self.R0 = R0\n",
        "        self.Rw = Rw\n",
        "        self.phi = phi\n",
        "        self.a = a\n",
        "        self.m = m\n",
        "\n",
        "    def calculate(self):\n",
        "        try:\n",
        "            if self.R0 is not None and self.Rw is not None:\n",
        "                return self.R0 / self.Rw\n",
        "            elif self.phi is not None:\n",
        "                return self.a / (self.phi ** self.m)\n",
        "            else:\n",
        "                raise ValueError(\"Insufficient data for Formation Factor\")\n",
        "        except ZeroDivisionError:\n",
        "            print(\"Error: Division by zero in Formation Factor calculation.\")\n",
        "            return None\n",
        "\n",
        "\n",
        "class Permeability(PetrophysicsFormula):\n",
        "    def __init__(self, phi, Sgv):\n",
        "        self.phi = phi\n",
        "        self.Sgv = Sgv\n",
        "\n",
        "    def calculate(self):\n",
        "        try:\n",
        "            return (self.phi ** 3) / (self.Sgv ** 2 * (1 - self.phi) ** 2)\n",
        "        except ZeroDivisionError:\n",
        "            print(\"Error: Invalid Sgv or phi=1 in Kozeny-Carman equation.\")\n",
        "            return None\n",
        "\n",
        "\n",
        "# ------------------- POLYMORPHISM EXAMPLE -------------------\n",
        "def compute_formula(formula: PetrophysicsFormula):\n",
        "    \"\"\"Demonstrates polymorphism: different formulas share the same interface\"\"\"\n",
        "    return formula.calculate()\n",
        "\n",
        "\n",
        "# ------------------- TESTING -------------------\n",
        "if __name__ == \"__main__\":\n",
        "    # Create objects\n",
        "    phi_calc = Porosity(28, 100)\n",
        "    phi = compute_formula(phi_calc)\n",
        "    print(\"Porosity (ϕ):\", phi)\n",
        "\n",
        "    Sw_calc = WaterSaturation(phi, Rw=0.08, Rt=20)\n",
        "    Sw = compute_formula(Sw_calc)\n",
        "    print(\"Water Saturation (Sw):\", Sw)\n",
        "\n",
        "    Sh_calc = HydrocarbonSaturation(Sw)\n",
        "    print(\"Hydrocarbon Saturation (Sh):\", compute_formula(Sh_calc))\n",
        "\n",
        "    rho_b_calc = BulkDensity(245, 100)\n",
        "    print(\"Bulk Density (ρb):\", compute_formula(rho_b_calc))\n",
        "\n",
        "    F_calc = FormationFactor(Rw=0.08, phi=phi)\n",
        "    print(\"Formation Factor (F):\", compute_formula(F_calc))\n",
        "\n",
        "    k_calc = Permeability(phi, Sgv=0.5)\n",
        "    print(\"Permeability (k):\", compute_formula(k_calc))"
      ]
    },
    {
      "cell_type": "markdown",
      "metadata": {
        "id": "02lAG4GLW9cx"
      },
      "source": [
        "ASSIGNMENT 2"
      ]
    },
    {
      "cell_type": "code",
      "execution_count": null,
      "metadata": {
        "colab": {
          "base_uri": "https://localhost:8080/"
        },
        "id": "-9aFD7awVJX2",
        "outputId": "51205c42-c387-4325-dceb-46b2c11e83ed"
      },
      "outputs": [
        {
          "name": "stdout",
          "output_type": "stream",
          "text": [
            "Task 1: hello\n",
            "Task 2: hEllO wOrlD\n",
            "Task 3: elloorld\n",
            "Task 4: Uppercase: 4, Lowercase: 4\n",
            "Task 5: DataDriven\n",
            "Task 6: Area = 6.0\n",
            "Formatted Names Table:\n",
            "\n",
            "Alice                  Alice                   Alice\n",
            "Bob                     Bob                      Bob\n",
            "Charlie               Charlie                Charlie\n",
            "Task 8: {'strip': 'Hello, World!', 'no_punctuation': '  Hello World  ', 'no_spaces': 'Hello,World!'}\n"
          ]
        }
      ],
      "source": [
        "\n",
        "import string\n",
        "import math\n",
        "\n",
        "# --------------------\n",
        "# Task 1: Convert all uppercase to lowercase\n",
        "def task1(s: str) -> str:\n",
        "    return s.lower()\n",
        "\n",
        "# --------------------\n",
        "# Task 2: Swap uppercase ↔ lowercase\n",
        "def task2(s: str) -> str:\n",
        "    return s.swapcase()\n",
        "\n",
        "# --------------------\n",
        "# Task 3: Remove uppercase letters\n",
        "def task3(s: str) -> str:\n",
        "    return ''.join(ch for ch in s if not ch.isupper())\n",
        "\n",
        "# --------------------\n",
        "# Task 4: Count uppercase and lowercase\n",
        "def task4(s: str) -> str:\n",
        "    upper = sum(1 for ch in s if ch.isupper())\n",
        "    lower = sum(1 for ch in s if ch.islower())\n",
        "    return f\"Uppercase: {upper}, Lowercase: {lower}\"\n",
        "\n",
        "# --------------------\n",
        "# Task 5: Remove non-English letters\n",
        "def task5(s: str) -> str:\n",
        "    return ''.join(ch for ch in s if ch.isalpha())\n",
        "\n",
        "# --------------------\n",
        "# Task 6: Heron’s formula for triangle area\n",
        "def task6(a: float, b: float, c: float) -> float:\n",
        "    s = (a + b + c) / 2\n",
        "    area = math.sqrt(s * (s - a) * (s - b) * (s - c))\n",
        "    return area\n",
        "\n",
        "# --------------------\n",
        "# Task 7: Format names in a table\n",
        "def task7(names: list):\n",
        "    print(\"Formatted Names Table:\\n\")\n",
        "    for name in names:\n",
        "        print(name.ljust(15), name.center(20), name.rjust(15))\n",
        "\n",
        "# --------------------\n",
        "# Task 8: Clean string\n",
        "def task8(s: str) -> dict:\n",
        "    cleaned = {}\n",
        "    cleaned[\"strip\"] = s.strip()\n",
        "    cleaned[\"no_punctuation\"] = s.translate(str.maketrans('', '', string.punctuation))\n",
        "    cleaned[\"no_spaces\"] = s.replace(\" \", \"\")\n",
        "    return cleaned\n",
        "\n",
        "\n",
        "# ==========================\n",
        "# TESTING\n",
        "# ==========================\n",
        "\n",
        "if __name__ == \"__main__\":\n",
        "\n",
        "    print(\"Task 1:\", task1(\"Hello\"))\n",
        "    print(\"Task 2:\", task2(\"HeLLo WoRLd\"))\n",
        "    print(\"Task 3:\", task3(\"HelloWorld\"))\n",
        "    print(\"Task 4:\", task4(\"EngiNEEr\"))\n",
        "    print(\"Task 5:\", task5(\"Data-Driven@2025!\"))\n",
        "    print(\"Task 6: Area =\", task6(3, 4, 5))\n",
        "\n",
        "    names = [\"Alice\", \"Bob\", \"Charlie\"]\n",
        "    task7(names)\n",
        "\n",
        "    print(\"Task 8:\", task8(\"  Hello, World!  \"))"
      ]
    }
  ],
  "metadata": {
    "colab": {
      "provenance": [],
      "authorship_tag": "ABX9TyP3rUxfpuy8WIjksQqeNhDG",
      "include_colab_link": true
    },
    "kernelspec": {
      "display_name": "Python 3",
      "name": "python3"
    },
    "language_info": {
      "name": "python"
    }
  },
  "nbformat": 4,
  "nbformat_minor": 0
}